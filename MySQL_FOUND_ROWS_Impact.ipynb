{
  "nbformat": 4,
  "nbformat_minor": 0,
  "metadata": {
    "colab": {
      "provenance": []
    },
    "kernelspec": {
      "name": "python3",
      "display_name": "Python 3"
    },
    "language_info": {
      "name": "python"
    }
  },
  "cells": [
    {
      "cell_type": "markdown",
      "source": [
        "Install and start mysql."
      ],
      "metadata": {
        "id": "_ZTRdOtzndmj"
      }
    },
    {
      "cell_type": "code",
      "source": [
        "!apt-get -y install mysql-server\n",
        "!service mysql start\n",
        "!pip install mysql-connector-python"
      ],
      "metadata": {
        "colab": {
          "base_uri": "https://localhost:8080/"
        },
        "id": "Xg-7jmZikhmI",
        "outputId": "6fb4d2d3-ac29-497c-98aa-0bcfb38f6991"
      },
      "execution_count": 1,
      "outputs": [
        {
          "output_type": "stream",
          "name": "stdout",
          "text": [
            "Reading package lists... Done\n",
            "Building dependency tree       \n",
            "Reading state information... Done\n",
            "The following additional packages will be installed:\n",
            "  libcgi-fast-perl libcgi-pm-perl libencode-locale-perl libfcgi-perl\n",
            "  libhtml-parser-perl libhtml-tagset-perl libhtml-template-perl\n",
            "  libhttp-date-perl libhttp-message-perl libio-html-perl\n",
            "  liblwp-mediatypes-perl libmecab2 liburi-perl mecab-ipadic mecab-ipadic-utf8\n",
            "  mecab-utils mysql-client-8.0 mysql-client-core-8.0 mysql-server-8.0\n",
            "  mysql-server-core-8.0\n",
            "Suggested packages:\n",
            "  libdata-dump-perl libipc-sharedcache-perl libwww-perl mailx tinyca\n",
            "The following NEW packages will be installed:\n",
            "  libcgi-fast-perl libcgi-pm-perl libencode-locale-perl libfcgi-perl\n",
            "  libhtml-parser-perl libhtml-tagset-perl libhtml-template-perl\n",
            "  libhttp-date-perl libhttp-message-perl libio-html-perl\n",
            "  liblwp-mediatypes-perl libmecab2 liburi-perl mecab-ipadic mecab-ipadic-utf8\n",
            "  mecab-utils mysql-client-8.0 mysql-client-core-8.0 mysql-server\n",
            "  mysql-server-8.0 mysql-server-core-8.0\n",
            "0 upgraded, 21 newly installed, 0 to remove and 14 not upgraded.\n",
            "Need to get 36.7 MB of archives.\n",
            "After this operation, 319 MB of additional disk space will be used.\n",
            "Get:1 http://archive.ubuntu.com/ubuntu focal-updates/main amd64 mysql-client-core-8.0 amd64 8.0.33-0ubuntu0.20.04.2 [5,173 kB]\n",
            "Get:2 http://archive.ubuntu.com/ubuntu focal-updates/main amd64 mysql-client-8.0 amd64 8.0.33-0ubuntu0.20.04.2 [22.0 kB]\n",
            "Get:3 http://archive.ubuntu.com/ubuntu focal/main amd64 libmecab2 amd64 0.996-10build1 [233 kB]\n",
            "Get:4 http://archive.ubuntu.com/ubuntu focal-updates/main amd64 mysql-server-core-8.0 amd64 8.0.33-0ubuntu0.20.04.2 [22.6 MB]\n",
            "Get:5 http://archive.ubuntu.com/ubuntu focal-updates/main amd64 mysql-server-8.0 amd64 8.0.33-0ubuntu0.20.04.2 [1,321 kB]\n",
            "Get:6 http://archive.ubuntu.com/ubuntu focal/main amd64 libhtml-tagset-perl all 3.20-4 [12.5 kB]\n",
            "Get:7 http://archive.ubuntu.com/ubuntu focal/main amd64 liburi-perl all 1.76-2 [77.5 kB]\n",
            "Get:8 http://archive.ubuntu.com/ubuntu focal/main amd64 libhtml-parser-perl amd64 3.72-5 [86.3 kB]\n",
            "Get:9 http://archive.ubuntu.com/ubuntu focal/main amd64 libcgi-pm-perl all 4.46-1 [186 kB]\n",
            "Get:10 http://archive.ubuntu.com/ubuntu focal/main amd64 libfcgi-perl amd64 0.79-1 [33.1 kB]\n",
            "Get:11 http://archive.ubuntu.com/ubuntu focal/main amd64 libcgi-fast-perl all 1:2.15-1 [10.5 kB]\n",
            "Get:12 http://archive.ubuntu.com/ubuntu focal/main amd64 libencode-locale-perl all 1.05-1 [12.3 kB]\n",
            "Get:13 http://archive.ubuntu.com/ubuntu focal/main amd64 libhtml-template-perl all 2.97-1 [59.0 kB]\n",
            "Get:14 http://archive.ubuntu.com/ubuntu focal/main amd64 libhttp-date-perl all 6.05-1 [9,920 B]\n",
            "Get:15 http://archive.ubuntu.com/ubuntu focal/main amd64 libio-html-perl all 1.001-1 [14.9 kB]\n",
            "Get:16 http://archive.ubuntu.com/ubuntu focal/main amd64 liblwp-mediatypes-perl all 6.04-1 [19.5 kB]\n",
            "Get:17 http://archive.ubuntu.com/ubuntu focal/main amd64 libhttp-message-perl all 6.22-1 [76.1 kB]\n",
            "Get:18 http://archive.ubuntu.com/ubuntu focal/main amd64 mecab-utils amd64 0.996-10build1 [4,912 B]\n",
            "Get:19 http://archive.ubuntu.com/ubuntu focal/main amd64 mecab-ipadic all 2.7.0-20070801+main-2.1 [6,714 kB]\n",
            "Get:20 http://archive.ubuntu.com/ubuntu focal/main amd64 mecab-ipadic-utf8 all 2.7.0-20070801+main-2.1 [4,380 B]\n",
            "Get:21 http://archive.ubuntu.com/ubuntu focal-updates/main amd64 mysql-server all 8.0.33-0ubuntu0.20.04.2 [9,480 B]\n",
            "Fetched 36.7 MB in 2s (22.4 MB/s)\n",
            "Preconfiguring packages ...\n",
            "Selecting previously unselected package mysql-client-core-8.0.\n",
            "(Reading database ... 123069 files and directories currently installed.)\n",
            "Preparing to unpack .../00-mysql-client-core-8.0_8.0.33-0ubuntu0.20.04.2_amd64.deb ...\n",
            "Unpacking mysql-client-core-8.0 (8.0.33-0ubuntu0.20.04.2) ...\n",
            "Selecting previously unselected package mysql-client-8.0.\n",
            "Preparing to unpack .../01-mysql-client-8.0_8.0.33-0ubuntu0.20.04.2_amd64.deb ...\n",
            "Unpacking mysql-client-8.0 (8.0.33-0ubuntu0.20.04.2) ...\n",
            "Selecting previously unselected package libmecab2:amd64.\n",
            "Preparing to unpack .../02-libmecab2_0.996-10build1_amd64.deb ...\n",
            "Unpacking libmecab2:amd64 (0.996-10build1) ...\n",
            "Selecting previously unselected package mysql-server-core-8.0.\n",
            "Preparing to unpack .../03-mysql-server-core-8.0_8.0.33-0ubuntu0.20.04.2_amd64.deb ...\n",
            "Unpacking mysql-server-core-8.0 (8.0.33-0ubuntu0.20.04.2) ...\n",
            "Selecting previously unselected package mysql-server-8.0.\n",
            "Preparing to unpack .../04-mysql-server-8.0_8.0.33-0ubuntu0.20.04.2_amd64.deb ...\n",
            "Unpacking mysql-server-8.0 (8.0.33-0ubuntu0.20.04.2) ...\n",
            "Selecting previously unselected package libhtml-tagset-perl.\n",
            "Preparing to unpack .../05-libhtml-tagset-perl_3.20-4_all.deb ...\n",
            "Unpacking libhtml-tagset-perl (3.20-4) ...\n",
            "Selecting previously unselected package liburi-perl.\n",
            "Preparing to unpack .../06-liburi-perl_1.76-2_all.deb ...\n",
            "Unpacking liburi-perl (1.76-2) ...\n",
            "Selecting previously unselected package libhtml-parser-perl.\n",
            "Preparing to unpack .../07-libhtml-parser-perl_3.72-5_amd64.deb ...\n",
            "Unpacking libhtml-parser-perl (3.72-5) ...\n",
            "Selecting previously unselected package libcgi-pm-perl.\n",
            "Preparing to unpack .../08-libcgi-pm-perl_4.46-1_all.deb ...\n",
            "Unpacking libcgi-pm-perl (4.46-1) ...\n",
            "Selecting previously unselected package libfcgi-perl.\n",
            "Preparing to unpack .../09-libfcgi-perl_0.79-1_amd64.deb ...\n",
            "Unpacking libfcgi-perl (0.79-1) ...\n",
            "Selecting previously unselected package libcgi-fast-perl.\n",
            "Preparing to unpack .../10-libcgi-fast-perl_1%3a2.15-1_all.deb ...\n",
            "Unpacking libcgi-fast-perl (1:2.15-1) ...\n",
            "Selecting previously unselected package libencode-locale-perl.\n",
            "Preparing to unpack .../11-libencode-locale-perl_1.05-1_all.deb ...\n",
            "Unpacking libencode-locale-perl (1.05-1) ...\n",
            "Selecting previously unselected package libhtml-template-perl.\n",
            "Preparing to unpack .../12-libhtml-template-perl_2.97-1_all.deb ...\n",
            "Unpacking libhtml-template-perl (2.97-1) ...\n",
            "Selecting previously unselected package libhttp-date-perl.\n",
            "Preparing to unpack .../13-libhttp-date-perl_6.05-1_all.deb ...\n",
            "Unpacking libhttp-date-perl (6.05-1) ...\n",
            "Selecting previously unselected package libio-html-perl.\n",
            "Preparing to unpack .../14-libio-html-perl_1.001-1_all.deb ...\n",
            "Unpacking libio-html-perl (1.001-1) ...\n",
            "Selecting previously unselected package liblwp-mediatypes-perl.\n",
            "Preparing to unpack .../15-liblwp-mediatypes-perl_6.04-1_all.deb ...\n",
            "Unpacking liblwp-mediatypes-perl (6.04-1) ...\n",
            "Selecting previously unselected package libhttp-message-perl.\n",
            "Preparing to unpack .../16-libhttp-message-perl_6.22-1_all.deb ...\n",
            "Unpacking libhttp-message-perl (6.22-1) ...\n",
            "Selecting previously unselected package mecab-utils.\n",
            "Preparing to unpack .../17-mecab-utils_0.996-10build1_amd64.deb ...\n",
            "Unpacking mecab-utils (0.996-10build1) ...\n",
            "Selecting previously unselected package mecab-ipadic.\n",
            "Preparing to unpack .../18-mecab-ipadic_2.7.0-20070801+main-2.1_all.deb ...\n",
            "Unpacking mecab-ipadic (2.7.0-20070801+main-2.1) ...\n",
            "Selecting previously unselected package mecab-ipadic-utf8.\n",
            "Preparing to unpack .../19-mecab-ipadic-utf8_2.7.0-20070801+main-2.1_all.deb ...\n",
            "Unpacking mecab-ipadic-utf8 (2.7.0-20070801+main-2.1) ...\n",
            "Selecting previously unselected package mysql-server.\n",
            "Preparing to unpack .../20-mysql-server_8.0.33-0ubuntu0.20.04.2_all.deb ...\n",
            "Unpacking mysql-server (8.0.33-0ubuntu0.20.04.2) ...\n",
            "Setting up libhttp-date-perl (6.05-1) ...\n",
            "Setting up libmecab2:amd64 (0.996-10build1) ...\n",
            "Setting up mysql-client-core-8.0 (8.0.33-0ubuntu0.20.04.2) ...\n",
            "Setting up libhtml-tagset-perl (3.20-4) ...\n",
            "Setting up liblwp-mediatypes-perl (6.04-1) ...\n",
            "Setting up libencode-locale-perl (1.05-1) ...\n",
            "Setting up mecab-utils (0.996-10build1) ...\n",
            "Setting up libio-html-perl (1.001-1) ...\n",
            "Setting up mysql-server-core-8.0 (8.0.33-0ubuntu0.20.04.2) ...\n",
            "Setting up mysql-client-8.0 (8.0.33-0ubuntu0.20.04.2) ...\n",
            "Setting up libfcgi-perl (0.79-1) ...\n",
            "Setting up liburi-perl (1.76-2) ...\n",
            "Setting up libhttp-message-perl (6.22-1) ...\n",
            "Setting up mysql-server-8.0 (8.0.33-0ubuntu0.20.04.2) ...\n",
            "invoke-rc.d: could not determine current runlevel\n",
            "invoke-rc.d: policy-rc.d denied execution of stop.\n",
            "update-alternatives: using /etc/mysql/mysql.cnf to provide /etc/mysql/my.cnf (my.cnf) in auto mode\n",
            "Renaming removed key_buffer and myisam-recover options (if present)\n",
            "mysqld will log errors to /var/log/mysql/error.log\n",
            "mysqld is running as pid 868\n",
            "Created symlink /etc/systemd/system/multi-user.target.wants/mysql.service → /lib/systemd/system/mysql.service.\n",
            "invoke-rc.d: could not determine current runlevel\n",
            "invoke-rc.d: policy-rc.d denied execution of start.\n",
            "Setting up mecab-ipadic (2.7.0-20070801+main-2.1) ...\n",
            "Compiling IPA dictionary for Mecab.  This takes long time...\n",
            "reading /usr/share/mecab/dic/ipadic/unk.def ... 40\n",
            "emitting double-array: 100% |###########################################| \n",
            "/usr/share/mecab/dic/ipadic/model.def is not found. skipped.\n",
            "reading /usr/share/mecab/dic/ipadic/Noun.name.csv ... 34202\n",
            "reading /usr/share/mecab/dic/ipadic/Verb.csv ... 130750\n",
            "reading /usr/share/mecab/dic/ipadic/Noun.proper.csv ... 27328\n",
            "reading /usr/share/mecab/dic/ipadic/Postp-col.csv ... 91\n",
            "reading /usr/share/mecab/dic/ipadic/Filler.csv ... 19\n",
            "reading /usr/share/mecab/dic/ipadic/Noun.adverbal.csv ... 795\n",
            "reading /usr/share/mecab/dic/ipadic/Interjection.csv ... 252\n",
            "reading /usr/share/mecab/dic/ipadic/Others.csv ... 2\n",
            "reading /usr/share/mecab/dic/ipadic/Adnominal.csv ... 135\n",
            "reading /usr/share/mecab/dic/ipadic/Noun.org.csv ... 16668\n",
            "reading /usr/share/mecab/dic/ipadic/Noun.place.csv ... 72999\n",
            "reading /usr/share/mecab/dic/ipadic/Postp.csv ... 146\n",
            "reading /usr/share/mecab/dic/ipadic/Prefix.csv ... 221\n",
            "reading /usr/share/mecab/dic/ipadic/Suffix.csv ... 1393\n",
            "reading /usr/share/mecab/dic/ipadic/Noun.csv ... 60477\n",
            "reading /usr/share/mecab/dic/ipadic/Noun.adjv.csv ... 3328\n",
            "reading /usr/share/mecab/dic/ipadic/Conjunction.csv ... 171\n",
            "reading /usr/share/mecab/dic/ipadic/Noun.number.csv ... 42\n",
            "reading /usr/share/mecab/dic/ipadic/Noun.demonst.csv ... 120\n",
            "reading /usr/share/mecab/dic/ipadic/Noun.verbal.csv ... 12146\n",
            "reading /usr/share/mecab/dic/ipadic/Noun.nai.csv ... 42\n",
            "reading /usr/share/mecab/dic/ipadic/Auxil.csv ... 199\n",
            "reading /usr/share/mecab/dic/ipadic/Adj.csv ... 27210\n",
            "reading /usr/share/mecab/dic/ipadic/Symbol.csv ... 208\n",
            "reading /usr/share/mecab/dic/ipadic/Noun.others.csv ... 151\n",
            "reading /usr/share/mecab/dic/ipadic/Adverb.csv ... 3032\n",
            "emitting double-array: 100% |###########################################| \n",
            "reading /usr/share/mecab/dic/ipadic/matrix.def ... 1316x1316\n",
            "emitting matrix      : 100% |###########################################| \n",
            "\n",
            "done!\n",
            "update-alternatives: using /var/lib/mecab/dic/ipadic to provide /var/lib/mecab/dic/debian (mecab-dictionary) in auto mode\n",
            "Setting up mecab-ipadic-utf8 (2.7.0-20070801+main-2.1) ...\n",
            "Compiling IPA dictionary for Mecab.  This takes long time...\n",
            "reading /usr/share/mecab/dic/ipadic/unk.def ... 40\n",
            "emitting double-array: 100% |###########################################| \n",
            "/usr/share/mecab/dic/ipadic/model.def is not found. skipped.\n",
            "reading /usr/share/mecab/dic/ipadic/Noun.name.csv ... 34202\n",
            "reading /usr/share/mecab/dic/ipadic/Verb.csv ... 130750\n",
            "reading /usr/share/mecab/dic/ipadic/Noun.proper.csv ... 27328\n",
            "reading /usr/share/mecab/dic/ipadic/Postp-col.csv ... 91\n",
            "reading /usr/share/mecab/dic/ipadic/Filler.csv ... 19\n",
            "reading /usr/share/mecab/dic/ipadic/Noun.adverbal.csv ... 795\n",
            "reading /usr/share/mecab/dic/ipadic/Interjection.csv ... 252\n",
            "reading /usr/share/mecab/dic/ipadic/Others.csv ... 2\n",
            "reading /usr/share/mecab/dic/ipadic/Adnominal.csv ... 135\n",
            "reading /usr/share/mecab/dic/ipadic/Noun.org.csv ... 16668\n",
            "reading /usr/share/mecab/dic/ipadic/Noun.place.csv ... 72999\n",
            "reading /usr/share/mecab/dic/ipadic/Postp.csv ... 146\n",
            "reading /usr/share/mecab/dic/ipadic/Prefix.csv ... 221\n",
            "reading /usr/share/mecab/dic/ipadic/Suffix.csv ... 1393\n",
            "reading /usr/share/mecab/dic/ipadic/Noun.csv ... 60477\n",
            "reading /usr/share/mecab/dic/ipadic/Noun.adjv.csv ... 3328\n",
            "reading /usr/share/mecab/dic/ipadic/Conjunction.csv ... 171\n",
            "reading /usr/share/mecab/dic/ipadic/Noun.number.csv ... 42\n",
            "reading /usr/share/mecab/dic/ipadic/Noun.demonst.csv ... 120\n",
            "reading /usr/share/mecab/dic/ipadic/Noun.verbal.csv ... 12146\n",
            "reading /usr/share/mecab/dic/ipadic/Noun.nai.csv ... 42\n",
            "reading /usr/share/mecab/dic/ipadic/Auxil.csv ... 199\n",
            "reading /usr/share/mecab/dic/ipadic/Adj.csv ... 27210\n",
            "reading /usr/share/mecab/dic/ipadic/Symbol.csv ... 208\n",
            "reading /usr/share/mecab/dic/ipadic/Noun.others.csv ... 151\n",
            "reading /usr/share/mecab/dic/ipadic/Adverb.csv ... 3032\n",
            "emitting double-array: 100% |###########################################| \n",
            "reading /usr/share/mecab/dic/ipadic/matrix.def ... 1316x1316\n",
            "emitting matrix      : 100% |###########################################| \n",
            "\n",
            "done!\n",
            "update-alternatives: using /var/lib/mecab/dic/ipadic-utf8 to provide /var/lib/mecab/dic/debian (mecab-dictionary) in auto mode\n",
            "Setting up libhtml-parser-perl (3.72-5) ...\n",
            "Setting up mysql-server (8.0.33-0ubuntu0.20.04.2) ...\n",
            "Setting up libcgi-pm-perl (4.46-1) ...\n",
            "Setting up libhtml-template-perl (2.97-1) ...\n",
            "Setting up libcgi-fast-perl (1:2.15-1) ...\n",
            "Processing triggers for systemd (245.4-4ubuntu3.22) ...\n",
            "Processing triggers for man-db (2.9.1-1) ...\n",
            "Processing triggers for libc-bin (2.31-0ubuntu9.9) ...\n",
            " * Starting MySQL database server mysqld\n",
            "su: warning: cannot change directory to /nonexistent: No such file or directory\n",
            "   ...done.\n",
            "Collecting mysql-connector-python\n",
            "  Downloading mysql_connector_python-8.0.33-cp310-cp310-manylinux1_x86_64.whl (27.4 MB)\n",
            "\u001b[2K     \u001b[90m━━━━━━━━━━━━━━━━━━━━━━━━━━━━━━━━━━━━━━━━\u001b[0m \u001b[32m27.4/27.4 MB\u001b[0m \u001b[31m52.7 MB/s\u001b[0m eta \u001b[36m0:00:00\u001b[0m\n",
            "\u001b[?25hRequirement already satisfied: protobuf<=3.20.3,>=3.11.0 in /usr/local/lib/python3.10/dist-packages (from mysql-connector-python) (3.20.3)\n",
            "Installing collected packages: mysql-connector-python\n",
            "Successfully installed mysql-connector-python-8.0.33\n"
          ]
        }
      ]
    },
    {
      "cell_type": "code",
      "source": [
        "!mysql -uroot -e \"FLUSH PRIVILEGES; ALTER USER 'root'@'localhost' IDENTIFIED WITH mysql_native_password BY ''; FLUSH PRIVILEGES;\"\n",
        "\n",
        "!mysql -uroot -e \"create database if not exists testing;\"\n",
        "!mysql -uroot -e \"drop table if exists testing.bigness;\"\n",
        "!mysql -uroot -e \"create table testing.bigness (id INT PRIMARY KEY AUTO_INCREMENT, value VARCHAR(255));\""
      ],
      "metadata": {
        "id": "AIHYIaGOlY5_"
      },
      "execution_count": 2,
      "outputs": []
    },
    {
      "cell_type": "code",
      "source": [
        "import mysql.connector\n",
        "import os\n",
        "file_path = '/content/profiles.dat'\n",
        "\n",
        "!rm /content/profiles.dat\n",
        "\n",
        "con = mysql.connector.connect(\n",
        "  host=\"localhost\",\n",
        "  user=\"root\",\n",
        "  password=\"\",\n",
        "  database=\"testing\"\n",
        ")\n",
        "\n",
        "def fetchAll(sql):\n",
        "  cursor = con.cursor()\n",
        "  cursor.execute(sql)\n",
        "  return cursor.fetchall()\n",
        "\n",
        "def write(dat):\n",
        "  with open(file_path, 'a') as f:\n",
        "      f.write(dat + os.linesep)\n",
        "\n",
        "import tempfile\n",
        "import os\n",
        "\n",
        "# Create a temporary directory\n",
        "with tempfile.TemporaryDirectory() as temp_dir:\n",
        "    print(f'Temporary directory: {temp_dir}')\n",
        "\n",
        "\n",
        "write(f'\"time\",\"label\"')"
      ],
      "metadata": {
        "colab": {
          "base_uri": "https://localhost:8080/"
        },
        "id": "3iyb6OXx1bbW",
        "outputId": "848f699c-ff48-4411-ec73-be1a1be12d99"
      },
      "execution_count": 3,
      "outputs": [
        {
          "output_type": "stream",
          "name": "stdout",
          "text": [
            "rm: cannot remove '/content/profiles.dat': No such file or directory\n",
            "Temporary directory: /tmp/tmpg64dhm7k\n"
          ]
        }
      ]
    },
    {
      "cell_type": "markdown",
      "source": [
        "Create a database & schema for the test."
      ],
      "metadata": {
        "id": "7scNlRypnru7"
      }
    },
    {
      "cell_type": "markdown",
      "source": [
        "Insert data into the table."
      ],
      "metadata": {
        "id": "wyHYnjJ_oQ_j"
      }
    },
    {
      "cell_type": "code",
      "source": [
        "!mysql -uroot testing -e \"insert into bigness (value) VALUES ('First Value'), ('Second Value'), ('Third Value'), ('Fourth Value');\"\n",
        "!mysql -uroot testing -e \"insert into bigness (value) SELECT value FROM bigness;\"\n",
        "!mysql -uroot testing -e \"insert into bigness (value) SELECT value FROM bigness;\"\n",
        "!mysql -uroot testing -e \"insert into bigness (value) SELECT value FROM bigness;\"\n",
        "!mysql -uroot testing -e \"insert into bigness (value) SELECT value FROM bigness;\"\n",
        "!mysql -uroot testing -e \"insert into bigness (value) SELECT value FROM bigness;\"\n",
        "!mysql -uroot testing -e \"insert into bigness (value) SELECT value FROM bigness;\"\n",
        "!mysql -uroot testing -e \"insert into bigness (value) SELECT value FROM bigness;\"\n",
        "!mysql -uroot testing -e \"insert into bigness (value) SELECT value FROM bigness;\"\n",
        "!mysql -uroot testing -e \"insert into bigness (value) SELECT value FROM bigness;\"\n",
        "!mysql -uroot testing -e \"insert into bigness (value) SELECT value FROM bigness;\"\n",
        "!mysql -uroot testing -e \"insert into bigness (value) SELECT value FROM bigness;\"\n",
        "!mysql -uroot testing -e \"insert into bigness (value) SELECT value FROM bigness;\"\n",
        "!mysql -uroot testing -e \"insert into bigness (value) SELECT value FROM bigness;\"\n",
        "!mysql -uroot testing -e \"insert into bigness (value) SELECT value FROM bigness;\"\n",
        "!mysql -uroot testing -e \"insert into bigness (value) SELECT value FROM bigness;\"\n",
        "!mysql -uroot testing -e \"insert into bigness (value) SELECT value FROM bigness;\"\n",
        "!mysql -uroot testing -e \"insert into bigness (value) SELECT value FROM bigness;\"\n",
        "!mysql -uroot testing -e \"insert into bigness (value) SELECT value FROM bigness;\"\n",
        "!mysql -uroot testing -e \"insert into bigness (value) SELECT value FROM bigness;\"\n",
        "!mysql -uroot testing -e \"insert into bigness (value) SELECT value FROM bigness;\"\n",
        "!mysql -uroot testing -e \"insert into bigness (value) SELECT value FROM bigness;\"\n",
        "!mysql -uroot testing -e \"insert into bigness (value) SELECT value FROM bigness;\"\n",
        "!mysql -uroot testing -e \"insert into bigness (value) SELECT value FROM bigness;\"\n"
      ],
      "metadata": {
        "id": "r4wQ9TPsoVCo"
      },
      "execution_count": 4,
      "outputs": []
    },
    {
      "cell_type": "markdown",
      "source": [
        "Get total count of items."
      ],
      "metadata": {
        "id": "nlVbD-cUrSA9"
      }
    },
    {
      "cell_type": "code",
      "source": [
        "!mysql -uroot testing -e \"SELECT CONCAT(FORMAT(total/1000, 0), ',', LPAD(total%1000, 3, '0')) as total FROM (select count(1) total from bigness) as sub;\""
      ],
      "metadata": {
        "colab": {
          "base_uri": "https://localhost:8080/"
        },
        "id": "KkfG_nQYpWDQ",
        "outputId": "5c07deb6-98b7-4ec1-e8e7-abefd8fe1550"
      },
      "execution_count": 10,
      "outputs": [
        {
          "output_type": "stream",
          "name": "stdout",
          "text": [
            "+---------+\n",
            "| total   |\n",
            "+---------+\n",
            "| 131,072 |\n",
            "+---------+\n"
          ]
        }
      ]
    },
    {
      "cell_type": "code",
      "source": [
        "con.reconnect()\n",
        "fetchAll(\"set PROFILING=1;\")\n",
        "rows = fetchAll(\"select SQL_CALC_FOUND_ROWS * FROM bigness WHERE id > 10 AND value like '%First%' limit 1;\")\n",
        "\n",
        "total = fetchAll(\"select FOUND_ROWS()\")\n",
        "\n",
        "profiling = fetchAll(\"SHOW PROFILES;\")\n",
        "\n",
        "elapsed = 0.0\n",
        "for val in profiling:\n",
        "  elapsed += val[1]\n",
        "\n",
        "elapseString = str(elapsed)\n",
        "write(f'\"{elapsed}\",\"FOUND_ROWS\"')\n",
        "\n"
      ],
      "metadata": {
        "id": "ESuNg9MmuZjB"
      },
      "execution_count": 6,
      "outputs": []
    },
    {
      "cell_type": "code",
      "source": [
        "con.reconnect()\n",
        "fetchAll(\"set PROFILING=1;\")\n",
        "rows = fetchAll(\"select * FROM bigness WHERE id > 10 limit 1;\")\n",
        "\n",
        "total = fetchAll(\"select count(*) total from bigness where id > 10\")\n",
        "\n",
        "profiling = fetchAll(\"SHOW PROFILES;\")\n",
        "elapsed = 0.0\n",
        "for val in profiling:\n",
        "  elapsed += val[1]\n",
        "\n",
        "elapseString = str(elapsed)\n",
        "write(f'\"{elapsed}\",\"COUNT(*)\"')\n",
        "\n"
      ],
      "metadata": {
        "id": "fIJI8tatxE3I"
      },
      "execution_count": 7,
      "outputs": []
    },
    {
      "cell_type": "code",
      "source": [
        "con.close()"
      ],
      "metadata": {
        "id": "4_tzElid1t6K"
      },
      "execution_count": 8,
      "outputs": []
    },
    {
      "cell_type": "code",
      "source": [
        "import pandas as pd\n",
        "import matplotlib.pyplot as plt\n",
        "import csv\n",
        "\n",
        "# Read data from CSV file\n",
        "data = pd.read_csv(file_path, sep=',', quotechar='\"')\n",
        "\n",
        "# Create lists to store graph data and labels\n",
        "graphData = []\n",
        "labels = []\n",
        "\n",
        "# Open the CSV file and read data into the lists\n",
        "with open(file_path, 'r') as file:\n",
        "    reader = csv.DictReader(file)\n",
        "    for row in reader:\n",
        "        graphData.append(float(row['time']))  # assuming 'time' is a column in your CSV\n",
        "        labels.append(row['label'])  # assuming 'label' is a column in your CSV\n",
        "\n",
        "labels, graphData = zip(*sorted(zip(labels, graphData)))\n",
        "\n",
        "# Create a bar chart\n",
        "plt.figure(figsize=(10, 6))\n",
        "\n",
        "plt.bar(labels, graphData)\n",
        "ymin, ymax = plt.ylim()\n",
        "plt.ylim([0, ymax])\n",
        "plt.show()\n"
      ],
      "metadata": {
        "colab": {
          "base_uri": "https://localhost:8080/",
          "height": 477
        },
        "id": "dSUoBiqP2T6M",
        "outputId": "57c87057-7fab-4fd9-8d87-df780cea857c"
      },
      "execution_count": 9,
      "outputs": [
        {
          "output_type": "display_data",
          "data": {
            "text/plain": [
              "<Figure size 1000x600 with 1 Axes>"
            ],
            "image/png": "[encoded data removed]"
          },
          "metadata": {}
        }
      ]
    }
  ]
}